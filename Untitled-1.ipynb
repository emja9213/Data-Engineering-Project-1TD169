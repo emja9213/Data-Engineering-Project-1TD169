{
 "cells": [
  {
   "cell_type": "code",
   "execution_count": 1,
   "metadata": {},
   "outputs": [],
   "source": [
    "import json\n",
    "\n",
    "preprocessed_data = []\n",
    "\n",
    "# Open the JSON file\n",
    "with open('C:\\\\Users\\\\HP\\\\Desktop\\\\data\\\\head-reddit-dataset.json', 'r', encoding='utf-8') as json_file:\n",
    "    # Read the file line by line\n",
    "    for line in json_file:\n",
    "        try:\n",
    "            # Parse each line as a JSON object\n",
    "            data = json.loads(line)\n",
    "            \n",
    "            # Assuming 'content' and 'summary' are keys containing the content and summary respectively\n",
    "            content_summary_entry = {\n",
    "                'content': data['content'],\n",
    "                'summary': data['summary']\n",
    "            }\n",
    "            \n",
    "            # Append the content and summary to the preprocessed data list\n",
    "            preprocessed_data.append(content_summary_entry)\n",
    "        except json.JSONDecodeError as e:\n",
    "            print(f\"Error parsing JSON: {e}\")\n",
    "\n",
    "# Save preprocessed dataset with only content and summary\n",
    "with open('preprocessed_dataset.json', 'w') as json_output_file:\n",
    "    json.dump(preprocessed_data, json_output_file, indent=4)\n"
   ]
  },
  {
   "cell_type": "code",
   "execution_count": 3,
   "metadata": {},
   "outputs": [
    {
     "name": "stdout",
     "output_type": "stream",
     "text": [
      "Total content word count: 1746\n",
      "Total summary word count: 175\n"
     ]
    }
   ],
   "source": [
    "# Initialize total word counts\n",
    "total_content_word_count = 0\n",
    "total_summary_word_count = 0\n",
    "\n",
    "# Iterate through each entry in the preprocessed data\n",
    "for entry in preprocessed_data:\n",
    "    # Split content and summary into words\n",
    "    content_words = entry['content'].split()\n",
    "    summary_words = entry['summary'].split()\n",
    "    \n",
    "    # Count the number of words and add to the total counts\n",
    "    total_content_word_count += len(content_words)\n",
    "    total_summary_word_count += len(summary_words)\n",
    "\n",
    "# Print total word counts\n",
    "print(f\"Total content word count: {total_content_word_count}\")\n",
    "print(f\"Total summary word count: {total_summary_word_count}\")\n"
   ]
  }
 ],
 "metadata": {
  "kernelspec": {
   "display_name": "Python 3",
   "language": "python",
   "name": "python3"
  },
  "language_info": {
   "codemirror_mode": {
    "name": "ipython",
    "version": 3
   },
   "file_extension": ".py",
   "mimetype": "text/x-python",
   "name": "python",
   "nbconvert_exporter": "python",
   "pygments_lexer": "ipython3",
   "version": "3.12.1"
  }
 },
 "nbformat": 4,
 "nbformat_minor": 2
}
